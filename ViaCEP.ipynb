{
  "nbformat": 4,
  "nbformat_minor": 0,
  "metadata": {
    "colab": {
      "provenance": [],
      "authorship_tag": "ABX9TyPlcoM5PtWKzsKKN4uPqWmf",
      "include_colab_link": true
    },
    "kernelspec": {
      "name": "python3",
      "display_name": "Python 3"
    },
    "language_info": {
      "name": "python"
    }
  },
  "cells": [
    {
      "cell_type": "markdown",
      "metadata": {
        "id": "view-in-github",
        "colab_type": "text"
      },
      "source": [
        "<a href=\"https://colab.research.google.com/github/bxrna7/Ficheiro/blob/main/ViaCEP.ipynb\" target=\"_parent\"><img src=\"https://colab.research.google.com/assets/colab-badge.svg\" alt=\"Open In Colab\"/></a>"
      ]
    },
    {
      "cell_type": "code",
      "source": [
        "import requests\n",
        "\n",
        "resposta = requests.get(f\"https://api.nasa.gov/mars-photos/api/v1/rovers/Curiosity/photos?sol=2000&camera=MAHLI&api_key=0wP979vHm86Fo68aAmsjbvAfh8KjZr9Wz5J3nfa0\")\n",
        "nasa=resposta.json()\n",
        "cont=0\n",
        "for j in nasa ['photos']:\n",
        "  cont+=1\n",
        "  print(f'A {cont}° imagem é:',j['img_src'])"
      ],
      "metadata": {
        "colab": {
          "base_uri": "https://localhost:8080/"
        },
        "id": "f0xE39XbcyIC",
        "outputId": "0f68611e-5d0a-4035-a9ce-f9d3e4d58171"
      },
      "execution_count": 6,
      "outputs": [
        {
          "output_type": "stream",
          "name": "stdout",
          "text": [
            "A 1° imagem é: http://mars.jpl.nasa.gov/msl-raw-images/msss/02000/mhli/2000MH0003350010800291C00_DXXX.jpg\n",
            "A 2° imagem é: http://mars.jpl.nasa.gov/msl-raw-images/msss/02000/mhli/2000MH0002990010800281C00_DXXX.jpg\n",
            "A 3° imagem é: http://mars.jpl.nasa.gov/msl-raw-images/msss/02000/mhli/2000MH0002990010800271C00_DXXX.jpg\n",
            "A 4° imagem é: http://mars.jpl.nasa.gov/msl-raw-images/msss/02000/mhli/2000MH0001900010800267C00_DXXX.jpg\n",
            "A 5° imagem é: http://mars.jpl.nasa.gov/msl-raw-images/msss/02000/mhli/2000MH0001930000800305S00_DXXX.jpg\n",
            "A 6° imagem é: http://mars.jpl.nasa.gov/msl-raw-images/msss/02000/mhli/2000MH0001930000800304R00_DXXX.jpg\n",
            "A 7° imagem é: http://mars.jpl.nasa.gov/msl-raw-images/msss/02000/mhli/2000MH0001930000800303S00_DXXX.jpg\n",
            "A 8° imagem é: http://mars.jpl.nasa.gov/msl-raw-images/msss/02000/mhli/2000MH0001930000800302R00_DXXX.jpg\n",
            "A 9° imagem é: http://mars.jpl.nasa.gov/msl-raw-images/msss/02000/mhli/2000MH0001930000800301S00_DXXX.jpg\n",
            "A 10° imagem é: http://mars.jpl.nasa.gov/msl-raw-images/msss/02000/mhli/2000MH0001930000800300R00_DXXX.jpg\n",
            "A 11° imagem é: http://mars.jpl.nasa.gov/msl-raw-images/msss/02000/mhli/2000MH0001930000800305U01_DXXX.jpg\n",
            "A 12° imagem é: http://mars.jpl.nasa.gov/msl-raw-images/msss/02000/mhli/2000MH0001930000800304T01_DXXX.jpg\n",
            "A 13° imagem é: http://mars.jpl.nasa.gov/msl-raw-images/msss/02000/mhli/2000MH0001930000800303U01_DXXX.jpg\n",
            "A 14° imagem é: http://mars.jpl.nasa.gov/msl-raw-images/msss/02000/mhli/2000MH0001930000800302T01_DXXX.jpg\n",
            "A 15° imagem é: http://mars.jpl.nasa.gov/msl-raw-images/msss/02000/mhli/2000MH0001930000800301U01_DXXX.jpg\n",
            "A 16° imagem é: http://mars.jpl.nasa.gov/msl-raw-images/msss/02000/mhli/2000MH0001930000800300T01_DXXX.jpg\n",
            "A 17° imagem é: http://mars.jpl.nasa.gov/msl-raw-images/msss/02000/mhli/2000MH0003350020800299I01_DXXX.jpg\n",
            "A 18° imagem é: http://mars.jpl.nasa.gov/msl-raw-images/msss/02000/mhli/2000MH0003350020800298I01_DXXX.jpg\n",
            "A 19° imagem é: http://mars.jpl.nasa.gov/msl-raw-images/msss/02000/mhli/2000MH0003350020800297I01_DXXX.jpg\n",
            "A 20° imagem é: http://mars.jpl.nasa.gov/msl-raw-images/msss/02000/mhli/2000MH0003350020800296I01_DXXX.jpg\n",
            "A 21° imagem é: http://mars.jpl.nasa.gov/msl-raw-images/msss/02000/mhli/2000MH0003350020800295I01_DXXX.jpg\n",
            "A 22° imagem é: http://mars.jpl.nasa.gov/msl-raw-images/msss/02000/mhli/2000MH0003350020800294I01_DXXX.jpg\n",
            "A 23° imagem é: http://mars.jpl.nasa.gov/msl-raw-images/msss/02000/mhli/2000MH0003350020800293I01_DXXX.jpg\n",
            "A 24° imagem é: http://mars.jpl.nasa.gov/msl-raw-images/msss/02000/mhli/2000MH0003350020800292I01_DXXX.jpg\n",
            "A 25° imagem é: http://mars.jpl.nasa.gov/msl-raw-images/msss/02000/mhli/2000MH0003350010800291I01_DXXX.jpg\n",
            "A 26° imagem é: http://mars.jpl.nasa.gov/msl-raw-images/msss/02000/mhli/2000MH0003350000800290I01_DXXX.jpg\n",
            "A 27° imagem é: http://mars.jpl.nasa.gov/msl-raw-images/msss/02000/mhli/2000MH0002990020800289I01_DXXX.jpg\n",
            "A 28° imagem é: http://mars.jpl.nasa.gov/msl-raw-images/msss/02000/mhli/2000MH0002990020800288I01_DXXX.jpg\n",
            "A 29° imagem é: http://mars.jpl.nasa.gov/msl-raw-images/msss/02000/mhli/2000MH0002990020800287I01_DXXX.jpg\n",
            "A 30° imagem é: http://mars.jpl.nasa.gov/msl-raw-images/msss/02000/mhli/2000MH0002990020800286I01_DXXX.jpg\n",
            "A 31° imagem é: http://mars.jpl.nasa.gov/msl-raw-images/msss/02000/mhli/2000MH0002990020800285I01_DXXX.jpg\n",
            "A 32° imagem é: http://mars.jpl.nasa.gov/msl-raw-images/msss/02000/mhli/2000MH0002990020800284I01_DXXX.jpg\n",
            "A 33° imagem é: http://mars.jpl.nasa.gov/msl-raw-images/msss/02000/mhli/2000MH0002990020800283I01_DXXX.jpg\n",
            "A 34° imagem é: http://mars.jpl.nasa.gov/msl-raw-images/msss/02000/mhli/2000MH0002990020800282I01_DXXX.jpg\n",
            "A 35° imagem é: http://mars.jpl.nasa.gov/msl-raw-images/msss/02000/mhli/2000MH0002990010800281I01_DXXX.jpg\n",
            "A 36° imagem é: http://mars.jpl.nasa.gov/msl-raw-images/msss/02000/mhli/2000MH0002990000800280I01_DXXX.jpg\n",
            "A 37° imagem é: http://mars.jpl.nasa.gov/msl-raw-images/msss/02000/mhli/2000MH0002990020800279I01_DXXX.jpg\n",
            "A 38° imagem é: http://mars.jpl.nasa.gov/msl-raw-images/msss/02000/mhli/2000MH0002990020800278I01_DXXX.jpg\n",
            "A 39° imagem é: http://mars.jpl.nasa.gov/msl-raw-images/msss/02000/mhli/2000MH0002990020800277I01_DXXX.jpg\n",
            "A 40° imagem é: http://mars.jpl.nasa.gov/msl-raw-images/msss/02000/mhli/2000MH0002990020800276I01_DXXX.jpg\n",
            "A 41° imagem é: http://mars.jpl.nasa.gov/msl-raw-images/msss/02000/mhli/2000MH0002990020800275I01_DXXX.jpg\n",
            "A 42° imagem é: http://mars.jpl.nasa.gov/msl-raw-images/msss/02000/mhli/2000MH0002990020800274I01_DXXX.jpg\n",
            "A 43° imagem é: http://mars.jpl.nasa.gov/msl-raw-images/msss/02000/mhli/2000MH0002990020800273I01_DXXX.jpg\n",
            "A 44° imagem é: http://mars.jpl.nasa.gov/msl-raw-images/msss/02000/mhli/2000MH0002990020800272I01_DXXX.jpg\n",
            "A 45° imagem é: http://mars.jpl.nasa.gov/msl-raw-images/msss/02000/mhli/2000MH0002990010800271I01_DXXX.jpg\n",
            "A 46° imagem é: http://mars.jpl.nasa.gov/msl-raw-images/msss/02000/mhli/2000MH0002990000800270I01_DXXX.jpg\n",
            "A 47° imagem é: http://mars.jpl.nasa.gov/msl-raw-images/msss/02000/mhli/2000MH0001900010800269I01_DXXX.jpg\n",
            "A 48° imagem é: http://mars.jpl.nasa.gov/msl-raw-images/msss/02000/mhli/2000MH0001900000800268I01_DXXX.jpg\n",
            "A 49° imagem é: http://mars.jpl.nasa.gov/msl-raw-images/msss/02000/mhli/2000MH0001900010800267I01_DXXX.jpg\n",
            "A 50° imagem é: http://mars.jpl.nasa.gov/msl-raw-images/msss/02000/mhli/2000MH0001900000800266I01_DXXX.jpg\n"
          ]
        }
      ]
    }
  ]
}